{
  "nbformat": 4,
  "nbformat_minor": 0,
  "metadata": {
    "kernelspec": {
      "display_name": "Python 3",
      "language": "python",
      "name": "python3"
    },
    "language_info": {
      "codemirror_mode": {
        "name": "ipython",
        "version": 3
      },
      "file_extension": ".py",
      "mimetype": "text/x-python",
      "name": "python",
      "nbconvert_exporter": "python",
      "pygments_lexer": "ipython3",
      "version": "3.5.2"
    },
    "colab": {
      "name": "Proyecto final IA.ipynb",
      "provenance": [],
      "collapsed_sections": [],
      "include_colab_link": true
    }
  },
  "cells": [
    {
      "cell_type": "markdown",
      "metadata": {
        "id": "view-in-github",
        "colab_type": "text"
      },
      "source": [
        "<a href=\"https://colab.research.google.com/github/aaron34x/Proyecto-Inteligencia-Aritificial/blob/main/Proyecto_final_IA.ipynb\" target=\"_parent\"><img src=\"https://colab.research.google.com/assets/colab-badge.svg\" alt=\"Open In Colab\"/></a>"
      ]
    },
    {
      "cell_type": "markdown",
      "metadata": {
        "deletable": true,
        "editable": true,
        "id": "THaLpb-8e8SV"
      },
      "source": [
        "Aaron Santiago Pedraza\n",
        "\n",
        "Brandon Emilio Gonzalez\n",
        "# Introducción:\n",
        "La adolescencia representa la transición de la niñez a la edad adulta, es decir, es un periodo de desarrollo donde la persona adquiere las capacidades físicas y psíquicas que la identificarán como desarrollada, especialmente las sexuales, que le permitirán reproducirse. Al ser una etapa de profundos cambios, está marcada por la inestabilidad y, en la mayoría de las ocasiones, el desconcierto y la confusión de los propios jóvenes ante sus cambios.\n",
        "\n",
        "Uno de estos cambios por los cuales los jóvenes estan supuestos a pasar es el consumó de alcohol, por lo cual a lo largo de este documento vamos analizar cuales son las características de lo jovenes mas consumidores de alcohol y sus calificaciones en tres diferentes periodos o cortes.\n",
        "\n",
        "### Dataset\n",
        "# El dataset que analizaremos está disponible en el siguiente [enlace].\n",
        "\n",
        "[enlace]:<https://www.kaggle.com/uciml/student-alcohol-consumption>\n",
        "\n",
        "\n",
        "### Objetivos\n",
        "- Objetivo 1: Realizar un análisis exploratorio de los datos y conclusiones que se puedan sacar de ellos. \n",
        "- Objetivo 2: Realizar una predicción sobre los valores objetivo (G1, G2 y G3).\n",
        "\n",
        "### Atributos del dataset\n",
        "Los atributos para los conjuntos de datos de student-mat.cvs y student-por.cvs son: \n",
        "\n",
        "- school:escuela del estudiante (binario: 'GP' - Gabriel Pereira o 'MS' - Mousinho da Silveira)\n",
        "\n",
        "- sex: sexo del estudiante (binario: 'F' - mujer o 'M' - hombre)\n",
        "\n",
        "- age: edad del estudiante (numérico: de 15 a 22)\n",
        "\n",
        "- address: tipo de dirección del hogar del estudiante (binario: 'U' - urbano o 'R' - rural)\n",
        "\n",
        "- famsize: tamaño de la familia (binario: 'LE3' - menor o igual a 3 o 'GT3' - mayor que 3)\n",
        "\n",
        "- Pstatus: estado de cohabitación de los padres (binario: 'T' viviendo juntos o 'A' - separados)\n",
        "\n",
        "- Medu: educación de la madre (numérico: 0 - ninguno, 1 - educación primaria (4º grado), 2 - 5º a 9º grado, 3 - educación secundaria o 4 - educación superior\n",
        "\n",
        "- Fedu: educación del padre (numérico: 0 - ninguno, 1 - educación primaria (4 ° grado), 2 - 5 ° a 9 ° grado, 3 - educación secundaria o 4 - educación superior)\n",
        "\n",
        "- Mjob: trabajo de la madre (nominal: 'maestra', relacionado con la atención de 'salud', 'servicios' civiles (por ejemplo, administrativo o policial), 'en_casa' u 'otro')\n",
        "\n",
        "- Fjob: trabajo del padre (nominal: 'maestro', relacionado con el cuidado de la salud, 'servicios' civiles (por ejemplo, administrativo o policial), 'en_home' u 'otro')\n",
        "\n",
        "- reason: motivo para elegir esta escuela (nominal: cerca de 'casa', 'reputación' de la escuela, preferencia de 'curso' u 'otro')\n",
        "\n",
        "- guardian: tutor del estudiante (nominal: 'madre', 'padre' u 'otro')\n",
        "- traveltime: tiempo de viaje de la casa a la escuela (numérico: 1 - 1 hora)\n",
        "\n",
        "- studytime: tiempo de estudio semanal (numérico: 1 - 10 horas) \n",
        "- failures: número de fallos de clases anteriores (numérico: n si 1 <= n <3, en caso contrario 4)\n",
        "- schoolsup: apoyo educativo adicional (binario: sí o no)\n",
        "- famsup: apoyo educativo familiar (binario: sí o no)\n",
        "- paid: clases pagas adicionales dentro de la asignatura del curso (matemáticas o portugués) (binario: sí o no)\n",
        "- activities:  actividades extracurriculares (binario: sí o no)\n",
        "- nursery: asistió a la guardería (binario: sí o no)\n",
        "- higher: quiere cursar estudios superiores (binario: sí o no)\n",
        "- Internet: acceso a Internet en casa (binario: sí o no)\n",
        "- romantic: con una relación romántica (binario: sí o no)\n",
        "-famrel: calidad de las relaciones familiares (numérico: de 1 muy mala a 5 - excelente)\n",
        "-freetime:tiempo libre después de la escuela (numérico: de 1 - muy bajo a 5 - muy alto)\n",
        "- goout :salir con amigos (numérico: de 1 - muy bajo a 5 - muy alto)\n",
        "- Dalc: consumo de alcohol en la jornada laboral (numérico: de 1 - muy bajo a 5 - muy alto)\n",
        "- Walc: consumo de alcohol durante el fin de semana (numérico: de 1 - muy bajo a 5 - muy alto)\n",
        "- health: estado de salud actual (numérico: de 1 - muy malo a 5 - muy bueno)\n",
        "- absences: número de ausencias escolares (numérico: de 0 a 93)\n",
        "\n",
        "\n",
        "\n",
        "## Preprocesamiento de los datos\n",
        "Primero vamos a realizar un preprocesado de los datos, para ello usaremos la librería Pandas. Crearemos un DataFrame a partir de los archivos CSV disponibles y, además, los preprocesaremos para que todos los campos contengan valores numéricos."
      ]
    },
    {
      "cell_type": "code",
      "metadata": {
        "deletable": true,
        "editable": true,
        "id": "vFGJnksWe8SV"
      },
      "source": [
        "import pandas as pd\n",
        "import numpy as np\n",
        "import matplotlib.pyplot as plt\n",
        "\n",
        "#Cargar conjuntos de datos\n",
        "math_course_file = '/content/student-mat.csv'\n",
        "portuguese_course_file = '/content/student-por.csv'\n",
        "separator = ';'\n",
        "df1 = pd.read_csv(filepath_or_buffer=math_course_file, sep=separator)\n",
        "df2 = pd.read_csv(filepath_or_buffer=portuguese_course_file, sep=separator)\n",
        "\n",
        "df = pd.concat([df1, df2], axis=0) #pila vertical"
      ],
      "execution_count": null,
      "outputs": []
    },
    {
      "cell_type": "code",
      "metadata": {
        "deletable": true,
        "editable": true,
        "colab": {
          "base_uri": "https://localhost:8080/"
        },
        "id": "t8NuEeFie8SV",
        "outputId": "364d776e-9fa4-4dbd-eb05-ee6dee77e389"
      },
      "source": [
        "#explorar los conjuntos de datos\n",
        "print(df1.shape)\n",
        "print(df2.shape)\n",
        "print(df.shape)\n",
        "print(df.columns)\n",
        "\n",
        "#cantidad de NAN's\n",
        "print(df.info())"
      ],
      "execution_count": null,
      "outputs": [
        {
          "output_type": "stream",
          "text": [
            "(395, 33)\n",
            "(649, 33)\n",
            "(1044, 33)\n",
            "Index(['school', 'sex', 'age', 'address', 'famsize', 'Pstatus', 'Medu', 'Fedu',\n",
            "       'Mjob', 'Fjob', 'reason', 'guardian', 'traveltime', 'studytime',\n",
            "       'failures', 'schoolsup', 'famsup', 'paid', 'activities', 'nursery',\n",
            "       'higher', 'internet', 'romantic', 'famrel', 'freetime', 'goout', 'Dalc',\n",
            "       'Walc', 'health', 'absences', 'G1', 'G2', 'G3'],\n",
            "      dtype='object')\n",
            "<class 'pandas.core.frame.DataFrame'>\n",
            "Int64Index: 1044 entries, 0 to 648\n",
            "Data columns (total 33 columns):\n",
            " #   Column      Non-Null Count  Dtype \n",
            "---  ------      --------------  ----- \n",
            " 0   school      1044 non-null   object\n",
            " 1   sex         1044 non-null   object\n",
            " 2   age         1044 non-null   int64 \n",
            " 3   address     1044 non-null   object\n",
            " 4   famsize     1044 non-null   object\n",
            " 5   Pstatus     1044 non-null   object\n",
            " 6   Medu        1044 non-null   int64 \n",
            " 7   Fedu        1044 non-null   int64 \n",
            " 8   Mjob        1044 non-null   object\n",
            " 9   Fjob        1044 non-null   object\n",
            " 10  reason      1044 non-null   object\n",
            " 11  guardian    1044 non-null   object\n",
            " 12  traveltime  1044 non-null   int64 \n",
            " 13  studytime   1044 non-null   int64 \n",
            " 14  failures    1044 non-null   int64 \n",
            " 15  schoolsup   1044 non-null   object\n",
            " 16  famsup      1044 non-null   object\n",
            " 17  paid        1044 non-null   object\n",
            " 18  activities  1044 non-null   object\n",
            " 19  nursery     1044 non-null   object\n",
            " 20  higher      1044 non-null   object\n",
            " 21  internet    1044 non-null   object\n",
            " 22  romantic    1044 non-null   object\n",
            " 23  famrel      1044 non-null   int64 \n",
            " 24  freetime    1044 non-null   int64 \n",
            " 25  goout       1044 non-null   int64 \n",
            " 26  Dalc        1044 non-null   int64 \n",
            " 27  Walc        1044 non-null   int64 \n",
            " 28  health      1044 non-null   int64 \n",
            " 29  absences    1044 non-null   int64 \n",
            " 30  G1          1044 non-null   int64 \n",
            " 31  G2          1044 non-null   int64 \n",
            " 32  G3          1044 non-null   int64 \n",
            "dtypes: int64(16), object(17)\n",
            "memory usage: 277.3+ KB\n",
            "None\n"
          ],
          "name": "stdout"
        }
      ]
    },
    {
      "cell_type": "markdown",
      "metadata": {
        "deletable": true,
        "editable": true,
        "id": "zh4DuQXje8SW"
      },
      "source": [
        "Observamos que no hay ningún valor NAN en el data set. A continuación, preprocesaremos algunas columnas para que sus datos sean numéricos y, así, poder analizarlos mejor."
      ]
    },
    {
      "cell_type": "code",
      "metadata": {
        "deletable": true,
        "editable": true,
        "id": "lrKGL1Abe8SW"
      },
      "source": [
        "#obtener un número relacionado con el campo laboral\n",
        "def parse_job_to_binary(x):\n",
        "    return [i[0] for i in enumerate(['teacher', 'health', 'services', 'at_home', 'other']) if i[1]==x][0]\n",
        "def parse_job_to_string(x):\n",
        "    return [i[1] for i in enumerate(['teacher', 'health', 'services', 'at_home', 'other']) if i[0]==x][0]\n",
        "\n",
        "#obtener un número relacionado con el motivo del elegir la escuela \n",
        "def parse_reason_to_binary(x):\n",
        "    return [i[0] for i in enumerate(['home', 'reputation', 'course', 'other']) if i[1]==x][0]\n",
        "\n",
        "#obtener un número relacionado con el campo tutor del estudiante\n",
        "def parse_guardian_to_binary(x):\n",
        "    return [i[0] for i in enumerate(['mother', 'father', 'other']) if i[1]==x][0]"
      ],
      "execution_count": null,
      "outputs": []
    },
    {
      "cell_type": "code",
      "metadata": {
        "deletable": true,
        "editable": true,
        "id": "K9jXFyd2e8SW"
      },
      "source": [
        "#analizar correctamente todos los campos no son numéricos\n",
        "df.school = df.school.apply(lambda x: 0 if x=='GP' else 1) #solo tenemos dos escuelas\n",
        "df.address = df.address.apply(lambda x: 0 if x=='U' else 1) #solo tenemos dos direcciones\n",
        "df.famsize = df.famsize.apply(lambda x: 0 if x=='LE3' else 1) #tenemos dos tamaños de familia\n",
        "df.Pstatus = df.Pstatus.apply(lambda x: 0 if x=='A' else 1) #tenemos estados de convivencia de los padres\n",
        "df.Mjob = df.Mjob.apply(lambda x: parse_job_to_binary(x))\n",
        "df.Fjob = df.Fjob.apply(lambda x: parse_job_to_binary(x))\n",
        "df.reason = df.reason.apply(lambda x: parse_reason_to_binary(x))\n",
        "df.guardian = df.guardian.apply(lambda x: parse_guardian_to_binary(x))\n",
        "df.sex = df.sex.apply(lambda x: 0 if x=='M' else 1)\n",
        "df.schoolsup = df.schoolsup.apply(lambda x: 0 if x=='no' else 1)\n",
        "df.famsup = df.famsup.apply(lambda x: 0 if x=='no' else 1)\n",
        "df.paid = df.paid.apply(lambda x: 0 if x=='no' else 1)\n",
        "df.activities = df.activities.apply(lambda x: 0 if x=='no' else 1)\n",
        "df.nursery = df.nursery.apply(lambda x: 0 if x=='no' else 1)\n",
        "df.higher = df.higher.apply(lambda x: 0 if x=='no' else 1)\n",
        "df.internet = df.internet.apply(lambda x: 0 if x=='no' else 1)\n",
        "df.romantic = df.romantic.apply(lambda x: 0 if x=='no' else 1)\n",
        "df['G1Pass'] = df.G1.apply(lambda x: 0 if x<10 else 1) #crear una nueva columna para el éxito de la clasificación G1\n",
        "df['G2Pass'] = df.G2.apply(lambda x: 0 if x<10 else 1) #crear una nueva columna para el éxito de la clasificación G2\n",
        "df['G3Pass'] = df.G3.apply(lambda x: 0 if x<10 else 1) #crear una nueva columna para el éxito final de la clasificación\n",
        "df.absences = df.absences.apply(lambda x: 0 if x<10 else 1) #ponemos 1 cuando un estudiante frecuentemente hace ausencias\n",
        "df.studytime = df.studytime.apply(lambda x: 0 if x<3 else 1) #ponemos 1 cuando un estudiante estudia mucho con frecuencia\n",
        "df.freetime = df.freetime.apply(lambda x: 0 if x<3 else 1) #Ponemos 1 cuando un estudiante frecuentemente tiene mucho tiempo libre."
      ],
      "execution_count": null,
      "outputs": []
    },
    {
      "cell_type": "markdown",
      "metadata": {
        "deletable": true,
        "editable": true,
        "id": "VphoTeNCe8SW"
      },
      "source": [
        "Ahora vamos a añadir una nueva columna, para clasificar a los alumnos como consumidores de alcohol o no. El criterio de clasificación se basa en la fórmula presentada en este [paper]:\n",
        "\n",
        "$$Alc=\\frac{Walc\\times2 + Dalc\\times5}{7}$$\n",
        "\n",
        "Además, clasificaremos como bebedor a un alumno si $Alc\\geqslant3$ y como no bebedor en otro caso.\n",
        "\n",
        "[paper]:https://www.researchgate.net/publication/296695247_USING_DATA_MINING_TO_PREDICT_SECONDARY_SCHOOL_STUDENT_ALCOHOL_CONSUMPTION\n"
      ]
    },
    {
      "cell_type": "code",
      "metadata": {
        "deletable": true,
        "editable": true,
        "colab": {
          "base_uri": "https://localhost:8080/"
        },
        "id": "4v894qbWe8SW",
        "outputId": "3c396180-e91c-4dea-e3c9-62b4dc3fd68c"
      },
      "source": [
        "#columna de clasificación\n",
        "df['Alc'] = (df.Walc*2 + df.Dalc*5)/7\n",
        "df.Alc = df.Alc.apply(lambda x: 0 if x < 3 else 1)\n",
        "print(df.Alc.describe())"
      ],
      "execution_count": null,
      "outputs": [
        {
          "output_type": "stream",
          "text": [
            "count    1044.000000\n",
            "mean        0.113027\n",
            "std         0.316777\n",
            "min         0.000000\n",
            "25%         0.000000\n",
            "50%         0.000000\n",
            "75%         0.000000\n",
            "max         1.000000\n",
            "Name: Alc, dtype: float64\n"
          ],
          "name": "stdout"
        }
      ]
    },
    {
      "cell_type": "markdown",
      "metadata": {
        "deletable": true,
        "editable": true,
        "id": "I6NYhqBBe8SW"
      },
      "source": [
        "## Objetivo 1: Análisis de los datos y presentación de resultados\n",
        "\n",
        "Ahora que ya tenemos nuestro data set preparado con datos numéricos, vamos a analizarlos y después presentaremos los resultados."
      ]
    },
    {
      "cell_type": "code",
      "metadata": {
        "deletable": true,
        "editable": true,
        "colab": {
          "base_uri": "https://localhost:8080/"
        },
        "id": "JGrFYAOze8SW",
        "outputId": "fef4f6dc-3291-4741-83a4-becbc5a86dbd"
      },
      "source": [
        "#Porcentaje de bebedores por sexo\n",
        "print(df.groupby('sex').mean().loc[:,'Alc'])\n",
        "\n",
        "#Porcentaje de bebedores por edad\n",
        "print(df.groupby('age').mean().loc[:,'Alc'])\n",
        "\n",
        "#Porcentaje de bebedores por marca FinalSuccess (G3)\n",
        "print(df.groupby('G3Pass').mean().loc[:,'Alc'])\n",
        "\n",
        "#Porcentaje de bebedores por sexo y G3Pass\n",
        "print(df.groupby(['sex', 'G3Pass']).mean().loc[:,'Alc'])\n",
        "\n",
        "#Porcentaje de bebedores por edad y G3Pass \n",
        "print(df.groupby(['age', 'G3Pass']).mean().loc[:,'Alc'])\n",
        "\n",
        "#Porcentaje de bebedores por campo de tiempo de estudio\n",
        "print(df.groupby('studytime').mean().loc[:,'Alc'])\n",
        "\n",
        "#Porcentaje de bebedores por campo de tiempo libre\n",
        "print(df.groupby('freetime').mean().loc[:,'Alc'])\n",
        "\n",
        "#Porcentaje de bebedoras por goout\n",
        "print(df.groupby('goout').mean().loc[:,'Alc'])\n",
        "\n",
        "#Porcentaje de bebedores por ausencias\n",
        "print(df.groupby('absences').mean().loc[:,'Alc'])"
      ],
      "execution_count": null,
      "outputs": [
        {
          "output_type": "stream",
          "text": [
            "sex\n",
            "0    0.200883\n",
            "1    0.045685\n",
            "Name: Alc, dtype: float64\n",
            "age\n",
            "15    0.067010\n",
            "16    0.085409\n",
            "17    0.122744\n",
            "18    0.130631\n",
            "19    0.232143\n",
            "20    0.111111\n",
            "21    0.666667\n",
            "22    1.000000\n",
            "Name: Alc, dtype: float64\n",
            "G3Pass\n",
            "0    0.143478\n",
            "1    0.104423\n",
            "Name: Alc, dtype: float64\n",
            "sex  G3Pass\n",
            "0    0         0.257143\n",
            "     1         0.183908\n",
            "1    0         0.048000\n",
            "     1         0.045064\n",
            "Name: Alc, dtype: float64\n",
            "age  G3Pass\n",
            "15   0         0.060606\n",
            "     1         0.068323\n",
            "16   0         0.122449\n",
            "     1         0.077586\n",
            "17   0         0.150000\n",
            "     1         0.115207\n",
            "18   0         0.114754\n",
            "     1         0.136646\n",
            "19   0         0.217391\n",
            "     1         0.242424\n",
            "20   0         1.000000\n",
            "     1         0.000000\n",
            "21   0         1.000000\n",
            "     1         0.500000\n",
            "22   0         1.000000\n",
            "Name: Alc, dtype: float64\n",
            "studytime\n",
            "0    0.130488\n",
            "1    0.049107\n",
            "Name: Alc, dtype: float64\n",
            "freetime\n",
            "0    0.089362\n",
            "1    0.119901\n",
            "Name: Alc, dtype: float64\n",
            "goout\n",
            "1    0.042254\n",
            "2    0.060484\n",
            "3    0.074627\n",
            "4    0.149780\n",
            "5    0.251534\n",
            "Name: Alc, dtype: float64\n",
            "absences\n",
            "0    0.095398\n",
            "1    0.215686\n",
            "Name: Alc, dtype: float64\n"
          ],
          "name": "stdout"
        }
      ]
    },
    {
      "cell_type": "markdown",
      "metadata": {
        "deletable": true,
        "editable": true,
        "id": "TKPw3bSHe8SW"
      },
      "source": [
        "Después de analizar los datos, podemos observar que hay algunos factores que son influyentes en el consumo de alcohol de los estudiantes:\n",
        "- Género (Hombres superan a las mujeres con diferencia)\n",
        "- Edad (Por ejemplo, todos los alumnos de 22 años son bebedores)\n",
        "- Las ausencias\n",
        "- El tiempo de estudio\n",
        "- El tiempo libre\n",
        "- Las salidas\n",
        "- El resultado de las notas (aprobado / suspenso)"
      ]
    },
    {
      "cell_type": "markdown",
      "metadata": {
        "deletable": true,
        "editable": true,
        "id": "afsku7Zoe8SW"
      },
      "source": [
        "Ahora vamos a ver cómo influye el consumo de alcohol al resultado de las calificaciones de los alumnos (G1, G2 y G3):"
      ]
    },
    {
      "cell_type": "code",
      "metadata": {
        "deletable": true,
        "editable": true,
        "colab": {
          "base_uri": "https://localhost:8080/"
        },
        "id": "H9yCeiQ-e8SW",
        "outputId": "d7ceb251-e928-442a-f841-c2297b35c434"
      },
      "source": [
        "#porcentaje de aprobados según si son consumidores del alcohol\n",
        "print(df.groupby(['Alc']).mean().loc[:,'G1Pass'])\n",
        "\n",
        "#porcentajes de aprobados segun sexo y si consumen alcohol\n",
        "print(df.groupby(['sex', 'Alc']).mean().loc[:,'G1Pass'])\n",
        "print(df.groupby(['sex', 'Alc']).mean().loc[:,'G2Pass'])\n",
        "print(df.groupby(['sex', 'Alc']).mean().loc[:,'G3Pass'])"
      ],
      "execution_count": null,
      "outputs": [
        {
          "output_type": "stream",
          "text": [
            "Alc\n",
            "0    0.725702\n",
            "1    0.618644\n",
            "Name: G1Pass, dtype: float64\n",
            "sex  Alc\n",
            "0    0      0.723757\n",
            "     1      0.604396\n",
            "1    0      0.726950\n",
            "     1      0.666667\n",
            "Name: G1Pass, dtype: float64\n",
            "sex  Alc\n",
            "0    0      0.729282\n",
            "     1      0.582418\n",
            "1    0      0.741135\n",
            "     1      0.666667\n",
            "Name: G2Pass, dtype: float64\n",
            "sex  Alc\n",
            "0    0      0.784530\n",
            "     1      0.703297\n",
            "1    0      0.789007\n",
            "     1      0.777778\n",
            "Name: G3Pass, dtype: float64\n"
          ],
          "name": "stdout"
        }
      ]
    },
    {
      "cell_type": "markdown",
      "metadata": {
        "deletable": true,
        "editable": true,
        "id": "E8nqPT7ve8SW"
      },
      "source": [
        "Podemos observar que el consumo de alcohol, en general, reduce la tasa de aprobados, demás existe un porcentaje mayor de hombres que no consiguen aprobar que son bebedores."
      ]
    },
    {
      "cell_type": "markdown",
      "metadata": {
        "deletable": true,
        "editable": true,
        "id": "-723s3FXe8SW"
      },
      "source": [
        "### Presentación de resultados\n",
        "Después de analizar los datos vamos a presentarlos haciendo uso de la librería [matplotlib](http://matplotlib.org/)."
      ]
    },
    {
      "cell_type": "code",
      "metadata": {
        "deletable": true,
        "editable": true,
        "id": "iWKOVCwle8SW"
      },
      "source": [
        "import matplotlib.pyplot as plt\n",
        "from matplotlib.ticker import FuncFormatter\n",
        "\n",
        "#Revertir algunos campos al original\n",
        "df.sex = df.sex.apply(lambda x: 'Male' if x==0 else 'Female')\n",
        "df.Mjob = df.Mjob.apply(lambda x: parse_job_to_string(x))\n",
        "df.Fjob = df.Fjob.apply(lambda x: parse_job_to_string(x))"
      ],
      "execution_count": null,
      "outputs": []
    },
    {
      "cell_type": "markdown",
      "metadata": {
        "deletable": true,
        "editable": true,
        "id": "np4aZfAQe8SW"
      },
      "source": [
        "##### Distribución de consumo de alcohol por género y edad"
      ]
    },
    {
      "cell_type": "code",
      "metadata": {
        "deletable": true,
        "editable": true,
        "colab": {
          "base_uri": "https://localhost:8080/",
          "height": 371
        },
        "id": "WdoNtrrze8SW",
        "outputId": "51b3e51e-c3c4-483a-d64f-5cb5ecd0d752"
      },
      "source": [
        "fig, ax = plt.subplots(1, 3, figsize=(20, 5))\n",
        "fig.suptitle('Distribución de alumnos por género y edad', fontweight='bold', fontsize=16)\n",
        "\n",
        "#crea un gráfico circular para la distribución de géneros\n",
        "sexCountList=df.groupby('sex').count().iloc[:,1]\n",
        "m=max(sexCountList)\n",
        "explode = [0.1 if x==m else 0 for x in sexCountList]\n",
        "ax[0].axis('equal')  # asegura que se dibuje como un círculo.\n",
        "\n",
        "sexCountList.plot.pie(ax=ax[0], explode=explode, colors=['red','green'], autopct='%1.1f%%',shadow=True, startangle=0)\n",
        "ax[0].set_ylabel('Distribución de género ')\n",
        "\n",
        "# crear un histograma para la distribución de géneros por edad\n",
        "df.loc[df.sex=='Male','age'].hist(ax=ax[1], bins=20, color='green', alpha=0.75, label='Male')\n",
        "df.loc[df.sex=='Female','age'].hist(ax=ax[1], bins=20, color='red', alpha=0.75, label='Female')\n",
        "ax[1].grid(False)\n",
        "ax[1].legend()\n",
        "ax[1].set_title('Distribución de género por edad')\n",
        "ax[1].set_xlabel('Edad')\n",
        "ax[1].set_ylabel('Frecuencia')\n",
        "\n",
        "#gráfico de barras para la distribución del consumo de alcohol por género\n",
        "formatter = FuncFormatter(lambda y, pos: \"%d%%\" % (y*100)) #formating y values with percentage operator\n",
        "ax[2].yaxis.set_major_formatter(formatter)\n",
        "df.groupby('sex').mean().loc[:,'Alc'].plot.bar(ax=ax[2],color=['red','green'],alpha=0.75)\n",
        "ax[2].set_title('Distribución del consumo de alcohol por género')\n",
        "ax[2].set_xlabel('Género')\n",
        "ax[2].set_ylabel('Porcentaje')\n",
        "for rect in ax[2].patches:\n",
        "    ax[2].annotate(\"%0.2f%%\" % (rect.get_height()*100), (rect.get_x() + rect.get_width()/2., rect.get_height() * 1.01), ha='center')\n",
        "\n",
        "\n",
        "plt.show()"
      ],
      "execution_count": null,
      "outputs": [
        {
          "output_type": "display_data",
          "data": {
            "image/png": "[encoded data removed]",
            "text/plain": [
              "<Figure size 1440x360 with 3 Axes>"
            ]
          },
          "metadata": {
            "tags": [],
            "needs_background": "light"
          }
        }
      ]
    },
    {
      "cell_type": "markdown",
      "metadata": {
        "id": "6GL4-9OvIMbv"
      },
      "source": [
        "De acuerdo a la distribucion de genero, el 56.6% son mujeres, y la mayoria de estudiantes estan entre los 16,17 y 18 años."
      ]
    },
    {
      "cell_type": "markdown",
      "metadata": {
        "deletable": true,
        "editable": true,
        "id": "6sTVe_13e8SX"
      },
      "source": [
        "##### Distribuciones: consumo de alcohol según género y edad"
      ]
    },
    {
      "cell_type": "code",
      "metadata": {
        "deletable": true,
        "editable": true,
        "colab": {
          "base_uri": "https://localhost:8080/",
          "height": 331
        },
        "id": "vA-ez4vBe8SX",
        "outputId": "cc087acf-7d55-4b33-e499-92614a4c2294"
      },
      "source": [
        "fig, ax = plt.subplots(1, 4, figsize=(22, 5))\n",
        "fig.suptitle('Distribución del consumo de alcohol de los estudiantes', fontweight='bold', fontsize=16)\n",
        "dfs = []\n",
        "w=0.7\n",
        "\n",
        "#Bebedores por sexo\n",
        "dfs.append(df.groupby('sex').mean().loc[:,'Alc'])\n",
        "ax[0].set_xlabel('Genero')\n",
        "\n",
        "\n",
        "#Bebedores por edad(\n",
        "dfs.append(df.groupby(['sex','age']).mean().reset_index().pivot(index='age',columns='sex',values='Alc'))\n",
        "ax[1].set_xlabel('Edad')\n",
        "\n",
        "#Bebedores por tiempo de estudio\n",
        "dfs.append(df.groupby(['sex','absences']).mean().reset_index().pivot(index='absences',columns='sex',values='Alc'))\n",
        "ax[2].set_xlabel('Ausencias')\n",
        "\n",
        "#bebedores por tiempo libre\n",
        "dfs.append(df.groupby(['sex','studytime']).mean().loc[:,'Alc'].reset_index().pivot(index='studytime',columns='sex',values='Alc'))\n",
        "ax[3].set_xlabel('Tiempo libre')\n",
        "\n",
        "formatter = FuncFormatter(lambda y, pos: \"%d%%\" % (y*100))\n",
        "\n",
        "for i,_ in enumerate(ax):\n",
        "    ax[i].yaxis.set_major_formatter(formatter)\n",
        "    dfs[i].plot.bar(ax=ax[i], width=w,color=['green','red'],alpha=0.75)\n",
        "    if i==0:\n",
        "        for rect in ax[i].patches:\n",
        "            ax[i].annotate(\"%0.2f%%\" % (rect.get_height()*100), (rect.get_x() + rect.get_width()/2., rect.get_height() * 1.05), ha='center')\n",
        "    ax[i].grid(False)\n",
        "    ax[i].set_ylim([0,1]) #clamp between [0,1]\n",
        "    ax[i].set_ylabel('Consumo de alcohol')\n",
        "    \n",
        "plt.show()"
      ],
      "execution_count": null,
      "outputs": [
        {
          "output_type": "display_data",
          "data": {
            "image/png": "[encoded data removed]",
            "text/plain": [
              "<Figure size 1584x360 with 4 Axes>"
            ]
          },
          "metadata": {
            "tags": [],
            "needs_background": "light"
          }
        }
      ]
    },
    {
      "cell_type": "markdown",
      "metadata": {
        "deletable": true,
        "editable": true,
        "id": "2odc5MJqe8SX"
      },
      "source": [
        "En la gráfica anterior podemos ver lo que habíamos analizado al inicio:\n",
        "- Los chicos (20,09%) consumen mucho más alcohol que las chicas (4,57%)\n",
        "- El consumo de alcohol se dispara en los chicos mayores de 16 años\n",
        "- Las ausencias a clase influyen en el aumento del consumo de alcohol\n",
        "- El consumo de alcohol también se ve influenciado si no se dedica tiempo a estudiar"
      ]
    },
    {
      "cell_type": "code",
      "metadata": {
        "deletable": true,
        "editable": true,
        "colab": {
          "base_uri": "https://localhost:8080/",
          "height": 346
        },
        "id": "SpTY9XC4e8SX",
        "outputId": "9b06c64c-739f-4fc3-8c30-ea040079f236"
      },
      "source": [
        "fig, ax = plt.subplots(1, 2, figsize=(22, 5))\n",
        "fig.suptitle('Distribución del consumo de alcohol de los estudiantes por trabajo de la madre', fontweight='bold', fontsize=16)\n",
        "\n",
        "#create a pie chart for \n",
        "li=df.groupby('Mjob').count().iloc[:,1]\n",
        "m=max(sexCountList)\n",
        "explode = [0.1 if x==m else 0 for x in li]\n",
        "ax[0].axis('equal')  # ensures that pie is drawn as a circle.\n",
        "\n",
        "li.plot.pie(ax=ax[0], explode=explode, colors=['red','green', 'blue', 'yellow', 'brown'], autopct='%1.1f%%',shadow=True, startangle=0)\n",
        "ax[0].set_ylabel('Distribución del trabajo de la madre')\n",
        "\n",
        "#bar chart for alcohol consumption distribution by genre\n",
        "formatter = FuncFormatter(lambda y, pos: \"%d%%\" % (y*100)) #formating y values with percentage operator\n",
        "ax[1].yaxis.set_major_formatter(formatter)\n",
        "df.groupby('Mjob').mean().loc[:,'Alc'].plot.bar(ax=ax[1],color='pink',alpha=0.75)\n",
        "ax[1].set_title('Distribución del consumo de alcohol por trabajo de la madre')\n",
        "ax[1].set_xlabel('Trabajo de madre')\n",
        "ax[1].set_ylabel('Porcentaje')\n",
        "for rect in ax[1].patches:\n",
        "    ax[1].annotate(\"%0.2f%%\" % (rect.get_height()*100), (rect.get_x() + rect.get_width()/2., rect.get_height() * 1.01), ha='center')\n",
        "\n",
        "plt.show()"
      ],
      "execution_count": null,
      "outputs": [
        {
          "output_type": "display_data",
          "data": {
            "image/png": "[encoded data removed]",
            "text/plain": [
              "<Figure size 1584x360 with 2 Axes>"
            ]
          },
          "metadata": {
            "tags": [],
            "needs_background": "light"
          }
        }
      ]
    },
    {
      "cell_type": "markdown",
      "metadata": {
        "deletable": true,
        "editable": true,
        "id": "3w_0m-oEe8SX"
      },
      "source": [
        "##### Distribuciones: consumo de alcohol y tasa de aprobados\n",
        "En esta gráfica observamos cómo la influencia del consumo de alcohol sobre los suspensos se ve agravada."
      ]
    },
    {
      "cell_type": "code",
      "metadata": {
        "deletable": true,
        "editable": true,
        "colab": {
          "base_uri": "https://localhost:8080/",
          "height": 292
        },
        "id": "DOBUw4aRe8SX",
        "outputId": "7eb04f84-6faa-4bc4-c8f8-04ab8fdad74c"
      },
      "source": [
        "fig, ax = plt.subplots()\n",
        "#gráfico de barras para mostrar el consumo de alcohol por género y el éxito en la nota final (G3)\n",
        "formatter = FuncFormatter(lambda y, pos: \"%d%%\" % (y*100)) #formatear valores y con operador de porcentaje\n",
        "ax.yaxis.set_major_formatter(formatter)\n",
        "df.groupby(['sex','G3Pass']).mean().reset_index().pivot(index='G3Pass',columns='sex',values='Alc').plot.bar(ax=ax, color=['red','green'],alpha=0.75)\n",
        "ax.set_title('Consumo de alcohol por género y exito en el corte G3')\n",
        "ax.set_xlabel('Nota final G3 ')\n",
        "ax.set_ylabel('Consumo de alcohol')\n",
        "ax.legend()\n",
        "for rect in ax.patches:\n",
        "    ax.annotate(\"%0.2f%%\" % (rect.get_height()*100), (rect.get_x() + rect.get_width()/2., rect.get_height() * 1.005), ha='center')\n",
        "\n",
        "plt.show()"
      ],
      "execution_count": null,
      "outputs": [
        {
          "output_type": "display_data",
          "data": {
            "image/png": "[encoded data removed]",
            "text/plain": [
              "<Figure size 432x288 with 1 Axes>"
            ]
          },
          "metadata": {
            "tags": [],
            "needs_background": "light"
          }
        }
      ]
    },
    {
      "cell_type": "markdown",
      "metadata": {
        "deletable": true,
        "editable": true,
        "id": "xOf5ULOme8SX"
      },
      "source": [
        "## Objetivo 2: Realizar una predicción sobre los valores objetivo (G1, G2 y G3)\n",
        "Recordemos que hemos incluido 3 nuevas columnas para indicar si un alumno ha aprobado el G1, G2 y G3. Dichos campos son: G1Pass, G2Pass y G3Pass."
      ]
    },
    {
      "cell_type": "code",
      "metadata": {
        "deletable": true,
        "editable": true,
        "id": "SCDTQmCue8SX"
      },
      "source": [
        "#revertir algunos campos de nuevo\n",
        "df.sex = df.sex.apply(lambda x: 0 if x=='Male' else 1)\n",
        "df.Mjob = df.Mjob.apply(lambda x: parse_job_to_binary(x))\n",
        "df.Fjob = df.Fjob.apply(lambda x: parse_job_to_binary(x))"
      ],
      "execution_count": null,
      "outputs": []
    },
    {
      "cell_type": "code",
      "metadata": {
        "deletable": true,
        "editable": true,
        "colab": {
          "base_uri": "https://localhost:8080/"
        },
        "id": "NiS_M5VLe8SX",
        "outputId": "0384ec13-d648-48e1-f91d-eb89cb08e20f"
      },
      "source": [
        "from sklearn.model_selection import StratifiedShuffleSplit\n",
        "from sklearn.neighbors import KNeighborsClassifier\n",
        "from sklearn.tree import DecisionTreeClassifier\n",
        "from sklearn.linear_model import LogisticRegression\n",
        "from sklearn.naive_bayes import GaussianNB\n",
        "from sklearn.metrics import classification_report\n",
        "from sklearn.metrics import confusion_matrix\n",
        "from sklearn.metrics import accuracy_score\n",
        "import random\n",
        "\n",
        "#dividir el conjunto de datos en un 60% para entrenamiento y 40% para pruebas\n",
        "def predict(train, labels, grades, algorithm = 'knn'):\n",
        "    stratified_data = StratifiedShuffleSplit(n_splits=3, test_size=0.4, random_state=random.randint(0, 999))\n",
        "    for i, j in stratified_data.split(train, labels):\n",
        "        X_train = train.iloc[i]\n",
        "        y_train = labels.iloc[i]\n",
        "        X_test = train.iloc[j]\n",
        "        y_test = labels.iloc[j]\n",
        "    \n",
        "    if algorithm == 'knn':\n",
        "        model = KNeighborsClassifier()\n",
        "    elif algorithm == 'dt':\n",
        "        model = DecisionTreeClassifier()        \n",
        "    elif algorithm == 'LR':\n",
        "        model = LogisticRegression()\n",
        "    elif algorithm == \"NB\":\n",
        "        model = RandomForestClassifier()\n",
        "        \n",
        "    \n",
        "    model.fit(train, labels)\n",
        "    pred = model.predict(X_test)\n",
        "    accuracy = accuracy_score(y_test, pred)\n",
        "    print(\"Results for \" + grades + \" (algorithm = \" + algorithm + \"):\")\n",
        "    print(classification_report(y_test, pred, target_names=[\"No-pass\", \"Pass\"]))\n",
        "    print(\"Acuracy: %0.2f%%\" % (accuracy*100) + \"\\n\")\n",
        "    print(\"Confusion matrix \" + grades + \":\")\n",
        "    print(confusion_matrix(y_test, pred))\n",
        "    print(\"\\n\") \n",
        "\n",
        "\n",
        "#delete some columns\n",
        "train = df.drop(['Walc','Dalc','G1','G2','G3','G1Pass','G2Pass','G3Pass'], axis = 1)\n",
        "\n",
        "\"\"\"imprimir los resultados finales\"\"\"\n",
        "\n",
        "#con kNN\n",
        "predict(train, df['G1Pass'], \"G1\", algorithm='knn')\n",
        "predict(train, df['G2Pass'], \"G2\", algorithm='knn')\n",
        "predict(train, df['G3Pass'], \"G3\", algorithm='knn')\n",
        "\n",
        "#con Decision Tree\n",
        "predict(train, df['G1Pass'], \"G1\", algorithm='dt')\n",
        "predict(train, df['G2Pass'], \"G2\", algorithm='dt')\n",
        "predict(train, df['G3Pass'], \"G3\", algorithm='dt')\n",
        "\n",
        "#con Naive_bayes\n",
        "predict(train, df['G1Pass'], \"G1\", algorithm='NB')\n",
        "predict(train, df['G2Pass'], \"G2\", algorithm='NB')\n",
        "predict(train, df['G3Pass'], \"G3\", algorithm='NB')"
      ],
      "execution_count": null,
      "outputs": [
        {
          "output_type": "stream",
          "text": [
            "Results for G1 (algorithm = knn):\n",
            "              precision    recall  f1-score   support\n",
            "\n",
            "     No-pass       0.81      0.42      0.55       120\n",
            "        Pass       0.80      0.96      0.87       298\n",
            "\n",
            "    accuracy                           0.80       418\n",
            "   macro avg       0.80      0.69      0.71       418\n",
            "weighted avg       0.80      0.80      0.78       418\n",
            "\n",
            "Acuracy: 80.38%\n",
            "\n",
            "Confusion matrix G1:\n",
            "[[ 50  70]\n",
            " [ 12 286]]\n",
            "\n",
            "\n",
            "Results for G2 (algorithm = knn):\n",
            "              precision    recall  f1-score   support\n",
            "\n",
            "     No-pass       0.76      0.36      0.49       117\n",
            "        Pass       0.79      0.96      0.87       301\n",
            "\n",
            "    accuracy                           0.79       418\n",
            "   macro avg       0.78      0.66      0.68       418\n",
            "weighted avg       0.79      0.79      0.76       418\n",
            "\n",
            "Acuracy: 78.95%\n",
            "\n",
            "Confusion matrix G2:\n",
            "[[ 42  75]\n",
            " [ 13 288]]\n",
            "\n",
            "\n",
            "Results for G3 (algorithm = knn):\n",
            "              precision    recall  f1-score   support\n",
            "\n",
            "     No-pass       0.79      0.29      0.43        92\n",
            "        Pass       0.83      0.98      0.90       326\n",
            "\n",
            "    accuracy                           0.83       418\n",
            "   macro avg       0.81      0.64      0.66       418\n",
            "weighted avg       0.82      0.83      0.80       418\n",
            "\n",
            "Acuracy: 82.78%\n",
            "\n",
            "Confusion matrix G3:\n",
            "[[ 27  65]\n",
            " [  7 319]]\n",
            "\n",
            "\n",
            "Results for G1 (algorithm = dt):\n",
            "              precision    recall  f1-score   support\n",
            "\n",
            "     No-pass       0.87      1.00      0.93       120\n",
            "        Pass       1.00      0.94      0.97       298\n",
            "\n",
            "    accuracy                           0.96       418\n",
            "   macro avg       0.93      0.97      0.95       418\n",
            "weighted avg       0.96      0.96      0.96       418\n",
            "\n",
            "Acuracy: 95.69%\n",
            "\n",
            "Confusion matrix G1:\n",
            "[[120   0]\n",
            " [ 18 280]]\n",
            "\n",
            "\n",
            "Results for G2 (algorithm = dt):\n",
            "              precision    recall  f1-score   support\n",
            "\n",
            "     No-pass       0.89      1.00      0.94       117\n",
            "        Pass       1.00      0.95      0.97       301\n",
            "\n",
            "    accuracy                           0.96       418\n",
            "   macro avg       0.94      0.98      0.96       418\n",
            "weighted avg       0.97      0.96      0.96       418\n",
            "\n",
            "Acuracy: 96.41%\n",
            "\n",
            "Confusion matrix G2:\n",
            "[[117   0]\n",
            " [ 15 286]]\n",
            "\n",
            "\n",
            "Results for G3 (algorithm = dt):\n",
            "              precision    recall  f1-score   support\n",
            "\n",
            "     No-pass       0.84      1.00      0.92        92\n",
            "        Pass       1.00      0.95      0.97       326\n",
            "\n",
            "    accuracy                           0.96       418\n",
            "   macro avg       0.92      0.97      0.94       418\n",
            "weighted avg       0.97      0.96      0.96       418\n",
            "\n",
            "Acuracy: 95.93%\n",
            "\n",
            "Confusion matrix G3:\n",
            "[[ 92   0]\n",
            " [ 17 309]]\n",
            "\n",
            "\n",
            "Results for G1 (algorithm = NB):\n",
            "              precision    recall  f1-score   support\n",
            "\n",
            "     No-pass       0.98      0.89      0.93       120\n",
            "        Pass       0.96      0.99      0.98       298\n",
            "\n",
            "    accuracy                           0.96       418\n",
            "   macro avg       0.97      0.94      0.95       418\n",
            "weighted avg       0.96      0.96      0.96       418\n",
            "\n",
            "Acuracy: 96.41%\n",
            "\n",
            "Confusion matrix G1:\n",
            "[[107  13]\n",
            " [  2 296]]\n",
            "\n",
            "\n",
            "Results for G2 (algorithm = NB):\n",
            "              precision    recall  f1-score   support\n",
            "\n",
            "     No-pass       0.97      0.88      0.92       117\n",
            "        Pass       0.96      0.99      0.97       301\n",
            "\n",
            "    accuracy                           0.96       418\n",
            "   macro avg       0.96      0.94      0.95       418\n",
            "weighted avg       0.96      0.96      0.96       418\n",
            "\n",
            "Acuracy: 95.93%\n",
            "\n",
            "Confusion matrix G2:\n",
            "[[103  14]\n",
            " [  3 298]]\n",
            "\n",
            "\n",
            "Results for G3 (algorithm = NB):\n",
            "              precision    recall  f1-score   support\n",
            "\n",
            "     No-pass       1.00      0.90      0.95        92\n",
            "        Pass       0.97      1.00      0.99       326\n",
            "\n",
            "    accuracy                           0.98       418\n",
            "   macro avg       0.99      0.95      0.97       418\n",
            "weighted avg       0.98      0.98      0.98       418\n",
            "\n",
            "Acuracy: 97.85%\n",
            "\n",
            "Confusion matrix G3:\n",
            "[[ 83   9]\n",
            " [  0 326]]\n",
            "\n",
            "\n"
          ],
          "name": "stdout"
        }
      ]
    },
    {
      "cell_type": "markdown",
      "metadata": {
        "deletable": true,
        "editable": true,
        "id": "fWofNdPAe8SX"
      },
      "source": [
        "## TODO: Multivariate"
      ]
    },
    {
      "cell_type": "markdown",
      "metadata": {
        "deletable": true,
        "editable": true,
        "id": "DOXSe-0je8SX"
      },
      "source": [
        "## Conclusiones\n",
        "Hemos habilitado la predicción con diferentes algoritmos y estos son los resultados obtenidos:\n",
        "- Decision Tree: G1 accuracy: 96.89%, G2 accuracy: 96.65%, G3 accuracy: 97.37%.\n",
        "- kNN: G1 accuracy: 80.86%, G2 accuracy: 82.06%, G3 accuracy: 81.58%.\n",
        "- GaussianNB: G1 accuracy: 96.41%, G2 accuracy: 95.93%, G3 accuracy: 97.85%.\n",
        "\n",
        "Los mejores resultados se consiguen con Decision Tree.\n",
        "\n",
        "Podemos fijarnos también en la matriz de confusión donde observamos que la sensibilidad y la sensibilidad están muy parejos. \n",
        "\n",
        "Además, en general, el número de falsos positivos es muy reducido (lo cual nos interesa, preferiremos predecir con mayor precisión los «aprobados» en comparación con los «suspensos»).\n",
        "\n",
        "### Trabajo futuro\n",
        "Un posible trabajo futuro sería tratar de ajustar (tuning) los clasificadores para mejorar la accuracy."
      ]
    }
  ]
}